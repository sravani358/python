{
 "cells": [
  {
   "cell_type": "code",
   "execution_count": 3,
   "id": "dc866be2-b2d9-4607-bee8-4ba35c7b9d31",
   "metadata": {},
   "outputs": [
    {
     "name": "stdout",
     "output_type": "stream",
     "text": [
      "EVEN Mutable list: [32, 54]\n",
      "ODD Mutable list: [21, 43, 65]\n"
     ]
    }
   ],
   "source": [
    "'''Multiple type attributes\n",
    "code to illustrate multiple attributes by calling a class for its speciications\n",
    "for example n=21,32,43,54,65\n",
    "even list:[32,54]\n",
    "odd list:[21,43,5]'''\n",
    "class number:\n",
    "    evens=[]\n",
    "    odds=[]\n",
    "    def __init__(self,num):\n",
    "        self.num=num\n",
    "        if num%2==0:\n",
    "            number.evens.append(num)\n",
    "        else:\n",
    "            number.odds.append(num)\n",
    "n1=number(21)\n",
    "n2=number(32)\n",
    "n3=number(43)\n",
    "n4=number(54)\n",
    "n5=number(65)\n",
    "print(\"EVEN Mutable list:\",number.evens)\n",
    "print(\"ODD Mutable list:\",number.odds)\n",
    "\n",
    "\n"
   ]
  },
  {
   "cell_type": "code",
   "execution_count": 13,
   "id": "87f5c474-bc8b-4405-be67-fcecc83aea75",
   "metadata": {},
   "outputs": [
    {
     "name": "stdin",
     "output_type": "stream",
     "text": [
      "enter value of n: 3\n"
     ]
    },
    {
     "name": "stdout",
     "output_type": "stream",
     "text": [
      "GIVEN value : 3\n",
      "GIVEN value : 27\n"
     ]
    }
   ],
   "source": [
    "#modifying the global class variable\n",
    "def op(x):\n",
    "    return x**3\n",
    "class abc():\n",
    "    def __init__(self,val):\n",
    "        self.val=val\n",
    "    def display(self):\n",
    "        print(\"GIVEN value :\",self.val)\n",
    "    def modify(self):\n",
    "        self.val=op(self.val)\n",
    "n=int(input(\"enter value of n:\"))\n",
    "o=abc(n)\n",
    "o.display()\n",
    "o.modify()\n",
    "o.display()\n"
   ]
  },
  {
   "cell_type": "code",
   "execution_count": 29,
   "id": "ca9c4347-4ed7-4fe5-8821-e27df5dacbd6",
   "metadata": {},
   "outputs": [
    {
     "name": "stdin",
     "output_type": "stream",
     "text": [
      "enter n1: 3\n",
      "enter n2: 4.0\n"
     ]
    },
    {
     "name": "stdout",
     "output_type": "stream",
     "text": [
      "Object.__dict__ -  {'var1': 3, 'var2': 4.0}\n",
      "Object.__doc__ -  None\n",
      "class.__name__ -  abc\n",
      "Object.__module__ -  __main__\n",
      "class.__base__ -  <class 'object'>\n"
     ]
    }
   ],
   "source": [
    "#built-in attributes\n",
    "class abc():\n",
    "    def __init__(self, var1, var2):\n",
    "        self.var1=var1\n",
    "        self.var2=var2\n",
    "    def display(self):\n",
    "        print(\"Var1:\", self.var1)\n",
    "        print(\"Var2:\", self.var2)\n",
    "        \n",
    "n1=int(input(\"enter n1:\"))\n",
    "n2=float(input(\"enter n2:\"))\n",
    "o=abc(n1,n2)\n",
    "print(\"Object.__dict__ - \", o.__dict__)\n",
    "print(\"Object.__doc__ - \", o.__doc__)\n",
    "print(\"class.__name__ - \", abc.__name__)\n",
    "print(\"Object.__module__ - \",o.__module__)\n",
    "print(\"class.__base__ - \",abc.__base__)\n",
    "\n"
   ]
  },
  {
   "cell_type": "code",
   "execution_count": 49,
   "id": "9f1d64d9-9c15-4104-b808-dc98c74d0e1f",
   "metadata": {},
   "outputs": [
    {
     "name": "stdin",
     "output_type": "stream",
     "text": [
      "enter a number: 10\n"
     ]
    },
    {
     "name": "stdout",
     "output_type": "stream",
     "text": [
      "<class 'type'>\n",
      "1704\n",
      "48\n"
     ]
    }
   ],
   "source": [
    "'''code to view the memory info in a class,which gives the tyoe of the class and size of the class object and size of the instance\n",
    "const:use package-sys for size of a given value of num=10'''\n",
    "import sys\n",
    "class A:\n",
    "  n=int(input(\"enter a number:\"))\n",
    "a=A()\n",
    "print(type(A))\n",
    "print(sys.getsizeof(A))\n",
    "print(sys.getsizeof(a))"
   ]
  },
  {
   "cell_type": "code",
   "execution_count": 69,
   "id": "fe5d06b1-b9e1-4703-b151-d7e8db8e3d31",
   "metadata": {},
   "outputs": [
    {
     "name": "stdin",
     "output_type": "stream",
     "text": [
      "enter 4 digit pin:  1234\n",
      "enter amount to be debit: 2000\n"
     ]
    },
    {
     "name": "stdout",
     "output_type": "stream",
     "text": [
      "2000 debited. Remaining balance Rs.3000\n"
     ]
    }
   ],
   "source": [
    "'''create a class atm and check the pin user1234\n",
    "define a constructor or a function to withdraw 2000/- balance amount from account 5999, if the amount is over the balance exit and check the pin for accessing the account ....'''\n",
    "class ATM:\n",
    "    def __init__(self):\n",
    "        self.pin=\"1234\"\n",
    "        self.balance=5000\n",
    "    def process(self):\n",
    "        a=input(\"enter 4 digit pin: \")\n",
    "        if a==self.pin:\n",
    "            amount=int(input(\"enter amount to be debit:\"))\n",
    "            if amount<=self.balance:\n",
    "                self.balance-=amount\n",
    "                print(f\"{amount} debited. Remaining balance Rs.{self.balance}\")\n",
    "            else:\n",
    "                print(\"Insuficient funds!!!!. Transaction cancelled.\")\n",
    "        else:\n",
    "            print(\"Pin Incorrect\")\n",
    "atm=ATM()\n",
    "atm.process()\n",
    "\n",
    "\n"
   ]
  },
  {
   "cell_type": "code",
   "execution_count": null,
   "id": "70cad37d-db06-43c9-8a92-4c7f8fdc8822",
   "metadata": {},
   "outputs": [],
   "source": []
  }
 ],
 "metadata": {
  "kernelspec": {
   "display_name": "Python 3 (ipykernel)",
   "language": "python",
   "name": "python3"
  },
  "language_info": {
   "codemirror_mode": {
    "name": "ipython",
    "version": 3
   },
   "file_extension": ".py",
   "mimetype": "text/x-python",
   "name": "python",
   "nbconvert_exporter": "python",
   "pygments_lexer": "ipython3",
   "version": "3.12.7"
  }
 },
 "nbformat": 4,
 "nbformat_minor": 5
}
