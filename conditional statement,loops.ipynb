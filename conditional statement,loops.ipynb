{
 "cells": [
  {
   "cell_type": "code",
   "execution_count": 1,
   "id": "7162f38e-925e-4545-bdb7-f49847330ad9",
   "metadata": {},
   "outputs": [
    {
     "name": "stdout",
     "output_type": "stream",
     "text": [
      "28\n",
      "32\n",
      "60000\n",
      "70000\n"
     ]
    }
   ],
   "source": [
    "#nested dictionary\n",
    "person={\n",
    "        \"jin\":{\"salary\":70000,\"empid\":32},\n",
    "        \"jungkook\":{\"salary\":60000,\"empid\":28}}\n",
    "print(person[\"jungkook\"][\"empid\"])\n",
    "print(person[\"jin\"][\"empid\"])\n",
    "print(person[\"jungkook\"][\"salary\"])\n",
    "print(person[\"jin\"][\"salary\"])\n",
    "\n",
    "\n"
   ]
  },
  {
   "cell_type": "code",
   "execution_count": 2,
   "id": "bc2b7976-932a-4b85-89fe-4c2ee926a08b",
   "metadata": {},
   "outputs": [
    {
     "name": "stdout",
     "output_type": "stream",
     "text": [
      "Vijayawada\n",
      "SouthKorea\n"
     ]
    }
   ],
   "source": [
    "#dictionary with tuples as keys\n",
    "loc={\n",
    "    (40.1234,-75.00001):\"SouthKorea\",\n",
    "    (34.1223,-111.345):\"Vijayawada\"}\n",
    "print(loc[(34.1223,-111.345)])\n",
    "print(loc[(40.1234,-75.00001)])"
   ]
  },
  {
   "cell_type": "code",
   "execution_count": 3,
   "id": "af329862-bb1b-42cf-b180-a7d87a96b308",
   "metadata": {},
   "outputs": [
    {
     "name": "stdout",
     "output_type": "stream",
     "text": [
      "{1, 2, 3, 4, 5}\n",
      "add and remove elements\n",
      "{1, 2, 3, 4, 5, 6}\n",
      "{1, 2, 4, 5, 6}\n",
      "True\n",
      "{1, 2, 4, 5, 6}\n",
      "False\n",
      "{1, 2, 4, 5, 6}\n"
     ]
    }
   ],
   "source": [
    "#set implementations\n",
    "sets={1,2,3,4,5}\n",
    "print(sets)\n",
    "print(\"add and remove elements\")\n",
    "sets.add(6)\n",
    "print(sets)\n",
    "sets.remove(3)\n",
    "print(sets)\n",
    "print(2 in sets)\n",
    "print(sets)\n",
    "print(3 in sets)\n",
    "print(sets)\n",
    "\n"
   ]
  },
  {
   "cell_type": "code",
   "execution_count": 4,
   "id": "5ff74512-e57c-47c1-b1a8-ddc03281f16e",
   "metadata": {},
   "outputs": [
    {
     "name": "stdout",
     "output_type": "stream",
     "text": [
      "Union: {3, 4, 5, 6, 7, 9, 12, 13}\n",
      "Intersection: {12, 4, 5}\n",
      "Differnce: {3, 6, 7}\n",
      "SymmetricDiffernce: {3, 6, 7, 9, 13}\n"
     ]
    }
   ],
   "source": [
    "#set operations\n",
    "a={12,3,4,5,6,7}\n",
    "b={12,4,5,9,5,13}\n",
    "print(\"Union:\",a.union(b))\n",
    "print(\"Intersection:\",a.intersection(b))\n",
    "print(\"Differnce:\",a.difference(b))\n",
    "print(\"SymmetricDiffernce:\",a.symmetric_difference(b))\n"
   ]
  },
  {
   "cell_type": "code",
   "execution_count": 5,
   "id": "cbe4bc02-8cb2-45d6-a57a-36f2cb68e0aa",
   "metadata": {},
   "outputs": [
    {
     "name": "stdout",
     "output_type": "stream",
     "text": [
      "s is subset to k: True\n",
      "k is subset to s: False\n"
     ]
    }
   ],
   "source": [
    "#subset check\n",
    "s={1,2,3}\n",
    "k={1,2,3,4,5,6}\n",
    "print(\"s is subset to k:\",s.issubset(k))\n",
    "print(\"k is subset to s:\",k.issubset(s))"
   ]
  },
  {
   "cell_type": "code",
   "execution_count": 25,
   "id": "a9475527-4c78-46a3-b8a7-8d0a51d4713a",
   "metadata": {},
   "outputs": [
    {
     "name": "stdout",
     "output_type": "stream",
     "text": [
      "subset or not: True\n",
      "Proper subset: True\n",
      "Superset or not: False\n",
      "Proper superset: True\n"
     ]
    }
   ],
   "source": [
    "#subset by using conditional operators\n",
    "a={1,2,3}\n",
    "b={1,2,3,4,5,6,7}\n",
    "print(\"subset or not:\",a<=b)\n",
    "print(\"Proper subset:\",a<b)\n",
    "print(\"Superset or not:\",a>=b)\n",
    "print(\"Proper superset:\",b>a)\n"
   ]
  },
  {
   "cell_type": "code",
   "execution_count": 19,
   "id": "5e3dc1fc-6574-4479-9a08-96eda76b652f",
   "metadata": {},
   "outputs": [
    {
     "name": "stdout",
     "output_type": "stream",
     "text": [
      "{1, 2, 3, 4, 5}\n"
     ]
    }
   ],
   "source": [
    "#set with lists\n",
    "nums=[1,2,3,4,5,5]\n",
    "single=set(nums)\n",
    "print(single)"
   ]
  },
  {
   "cell_type": "code",
   "execution_count": 23,
   "id": "838491a9-f7ca-4679-ba53-766813b6dd07",
   "metadata": {},
   "outputs": [
    {
     "name": "stdout",
     "output_type": "stream",
     "text": [
      "x is a subset of y\n"
     ]
    }
   ],
   "source": [
    "x=set([1,2])\n",
    "y=set([1,2,3,4,5])\n",
    "if x.issubset(y):\n",
    "   print(\"x is a subset of y\")"
   ]
  },
  {
   "cell_type": "code",
   "execution_count": 33,
   "id": "fbfc7f1b-8a7d-4723-a4cd-dea10f295c09",
   "metadata": {},
   "outputs": [
    {
     "name": "stdout",
     "output_type": "stream",
     "text": [
      "key for value:'(b)':name\n"
     ]
    }
   ],
   "source": [
    "a={'name':'SouthKorea','num':9717}\n",
    "b='SouthKorea'\n",
    "for key,value in a.items():\n",
    "    if value==b:\n",
    "        print(f\"key for value:'(b)':{key}\")"
   ]
  },
  {
   "cell_type": "code",
   "execution_count": 61,
   "id": "6016d5ca-acd6-463a-a751-d5cb0ff0d3c8",
   "metadata": {},
   "outputs": [
    {
     "name": "stdout",
     "output_type": "stream",
     "text": [
      "23\n",
      "3.0\n",
      "1.0\n",
      "(23.94+0j)\n",
      "(23+0j)\n",
      "a\n",
      "2\n",
      "24.9\n",
      "list[2, 3, 4]\n"
     ]
    }
   ],
   "source": [
    "#type conversions\n",
    "print(int(23.9))\n",
    "print(float(3))\n",
    "print(float(1))\n",
    "print(complex(23.94))\n",
    "print(complex(23))\n",
    "print(str(\"a\"))\n",
    "print(str(2))\n",
    "print(str(24.9))\n",
    "print(list[2,3,4])\n",
    "\n",
    "\n",
    "\n",
    "\n"
   ]
  },
  {
   "cell_type": "code",
   "execution_count": 55,
   "id": "a4dd0448-b59d-447d-8a9b-d349c14b21ed",
   "metadata": {},
   "outputs": [
    {
     "name": "stdout",
     "output_type": "stream",
     "text": [
      "45.0\n"
     ]
    },
    {
     "data": {
      "text/plain": [
       "'str(x)\\ntuple(x)\\nlist(x)\\nset(x)\\nord(x)\\nchr(x)\\nhex(x)\\noct(x)\\nbin(x)\\ndict(x)\\n'"
      ]
     },
     "execution_count": 55,
     "metadata": {},
     "output_type": "execute_result"
    }
   ],
   "source": [
    "x=45\n",
    "print(float(x))\n",
    "'''str(x)\n",
    "tuple(x)\n",
    "list(x)\n",
    "set(x)\n",
    "ord(x)\n",
    "chr(x)\n",
    "hex(x)\n",
    "oct(x)\n",
    "bin(x)\n",
    "dict(x)\n",
    "'''"
   ]
  },
  {
   "cell_type": "code",
   "execution_count": null,
   "id": "10f8453e-2699-4e61-98c4-8029e1493a2d",
   "metadata": {},
   "outputs": [],
   "source": [
    "'''()\n",
    "**\n",
    "~ + -\n",
    "*\n",
    "/\n",
    "%\n",
    "//\n",
    "5>>+2(nibble) 0001 01\n",
    "<< >>\n",
    "&\n",
    "^ |\n",
    "bitwise <> == !=\n",
    "<= < > >=\n",
    "= %= /= //= -= += **=\n",
    "identity is isnot\n",
    "membership in notin\n",
    "logical and or not\n",
    "'''"
   ]
  }
 ],
 "metadata": {
  "kernelspec": {
   "display_name": "Python 3 (ipykernel)",
   "language": "python",
   "name": "python3"
  },
  "language_info": {
   "codemirror_mode": {
    "name": "ipython",
    "version": 3
   },
   "file_extension": ".py",
   "mimetype": "text/x-python",
   "name": "python",
   "nbconvert_exporter": "python",
   "pygments_lexer": "ipython3",
   "version": "3.12.7"
  }
 },
 "nbformat": 4,
 "nbformat_minor": 5
}
