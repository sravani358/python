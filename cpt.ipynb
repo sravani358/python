{
 "cells": [
  {
   "cell_type": "code",
   "execution_count": 4,
   "id": "ff43e274-614a-4570-acbf-e3824392dc35",
   "metadata": {},
   "outputs": [
    {
     "name": "stdout",
     "output_type": "stream",
     "text": [
      "5\n",
      "15\n"
     ]
    }
   ],
   "source": [
    "def sample(x,y=1):\n",
    "    return x*y\n",
    "print(sample(5))\n",
    "print(sample(5,3))"
   ]
  },
  {
   "cell_type": "code",
   "execution_count": 6,
   "id": "ecaffec8-82fa-45cc-ba5b-bacd16f4c47d",
   "metadata": {},
   "outputs": [
    {
     "name": "stdout",
     "output_type": "stream",
     "text": [
      "Emil\n",
      "Tobias\n",
      "Linus\n"
     ]
    }
   ],
   "source": [
    "def my_function(fname):\n",
    "  print(fname)\n",
    "\n",
    "my_function(\"Emil\")\n",
    "my_function(\"Tobias\")\n",
    "my_function(\"Linus\")"
   ]
  },
  {
   "cell_type": "code",
   "execution_count": 10,
   "id": "506ee567-221e-49a3-b025-84a61390536e",
   "metadata": {},
   "outputs": [
    {
     "name": "stdout",
     "output_type": "stream",
     "text": [
      "6\n",
      "50\n"
     ]
    }
   ],
   "source": [
    "def result(*args):\n",
    "    return sum(args)\n",
    "print(result(1,2,3))\n",
    "print(result(11,12,13,14))"
   ]
  },
  {
   "cell_type": "code",
   "execution_count": 18,
   "id": "922eab34-19e4-479f-bc08-007071f72cf2",
   "metadata": {},
   "outputs": [
    {
     "name": "stdout",
     "output_type": "stream",
     "text": [
      "name:KARTHI\n",
      "age:21\n",
      "city:Vijayawada\n"
     ]
    }
   ],
   "source": [
    "def info(**kwargs):\n",
    "    for key,value in kwargs.items():\n",
    "        print(f\"{key}:{value}\")\n",
    "info(name=\"KARTHI\",age=21,city=\"Vijayawada\")"
   ]
  },
  {
   "cell_type": "code",
   "execution_count": 20,
   "id": "ceb7a8a3-4fd3-47a1-8a2d-759a328da2bc",
   "metadata": {},
   "outputs": [
    {
     "name": "stdout",
     "output_type": "stream",
     "text": [
      "25\n",
      "8\n"
     ]
    }
   ],
   "source": [
    "sq=lambda x:x*x\n",
    "print(sq(5))\n",
    "add=lambda x,y:x+y\n",
    "print(add(3,5))"
   ]
  },
  {
   "cell_type": "code",
   "execution_count": 28,
   "id": "1d51d6e7-9996-4e4b-826e-7c8abd14ed0c",
   "metadata": {},
   "outputs": [
    {
     "name": "stdout",
     "output_type": "stream",
     "text": [
      "Emil Louis\n"
     ]
    }
   ],
   "source": [
    "def my_function(fname, lname):\n",
    "  print(fname, lname)\n",
    "\n",
    "my_function(\"Emil\",\"Louis\")"
   ]
  },
  {
   "cell_type": "code",
   "execution_count": 58,
   "id": "38a7679e-37ed-409b-92e4-42f6ee44f721",
   "metadata": {},
   "outputs": [
    {
     "name": "stdout",
     "output_type": "stream",
     "text": [
      "Min:1,Max:5,Avg:3.0\n"
     ]
    }
   ],
   "source": [
    "\n",
    "def allnum(n):\n",
    "    return min(n),max(n),sum(n)/len(n)\n",
    "min_val,max_val,avg=allnum([1,2,3,4,5])\n",
    "print(f\"Min:{min_val},Max:{max_val},Avg:{avg}\")"
   ]
  },
  {
   "cell_type": "code",
   "execution_count": 87,
   "id": "17cbcdbd-eb0a-4442-9e80-d150abb14a5a",
   "metadata": {},
   "outputs": [
    {
     "name": "stdout",
     "output_type": "stream",
     "text": [
      "5\n",
      "4\n",
      "3\n",
      "2\n",
      "1\n"
     ]
    }
   ],
   "source": [
    "def tail_recursion(n):\n",
    "    if n > 0:\n",
    "        print(n)\n",
    "        return tail_recursion(n - 1)\n",
    "tail_recursion(n)"
   ]
  },
  {
   "cell_type": "code",
   "execution_count": 101,
   "id": "e21014e5-e693-473b-8a99-19a496099f01",
   "metadata": {},
   "outputs": [
    {
     "data": {
      "text/plain": [
       "120"
      ]
     },
     "execution_count": 101,
     "metadata": {},
     "output_type": "execute_result"
    }
   ],
   "source": [
    "#Direct recursion \n",
    "def fact(n):\n",
    "    if n==0 or n==1:\n",
    "        return 1\n",
    "    return n*fact(n-1)\n",
    "\n",
    "fact(5)"
   ]
  },
  {
   "cell_type": "code",
   "execution_count": 122,
   "id": "d2af4502-869c-437d-a2c0-fac8ef01af1c",
   "metadata": {},
   "outputs": [
    {
     "name": "stdout",
     "output_type": "stream",
     "text": [
      "True\n",
      "True\n"
     ]
    }
   ],
   "source": [
    "#Indirect recursion\n",
    "def e(n):\n",
    "    if n==0:\n",
    "        return True\n",
    "    return o(n-1)\n",
    "def o(n):\n",
    "    if n==0:\n",
    "        return False\n",
    "    return e(n-1)\n",
    "print(e(2))\n",
    "print(o(3))"
   ]
  },
  {
   "cell_type": "code",
   "execution_count": 124,
   "id": "e715ecc7-1dd3-481d-b32e-8ae27042e2bd",
   "metadata": {},
   "outputs": [
    {
     "data": {
      "text/plain": [
       "120"
      ]
     },
     "execution_count": 124,
     "metadata": {},
     "output_type": "execute_result"
    }
   ],
   "source": [
    "#Tail Recursion\n",
    "def fact(n,t=1):\n",
    "    if n==0 or n==1:\n",
    "        return t\n",
    "    return fact(n-1,n*t)\n",
    "\n",
    "fact(5)"
   ]
  },
  {
   "cell_type": "code",
   "execution_count": 126,
   "id": "356fe660-e0be-415c-9e45-ccfd91167f63",
   "metadata": {},
   "outputs": [
    {
     "name": "stdout",
     "output_type": "stream",
     "text": [
      "55\n"
     ]
    }
   ],
   "source": [
    "#Linear Recursion\n",
    "def total(n):\n",
    "    if n<=0:\n",
    "        return 0\n",
    "    return n+total(n-1)\n",
    "print(total(10))"
   ]
  },
  {
   "cell_type": "code",
   "execution_count": 1,
   "id": "71edeea7-5efd-4588-bd8c-191b0ba1a322",
   "metadata": {},
   "outputs": [
    {
     "name": "stdout",
     "output_type": "stream",
     "text": [
      "288\n",
      "6\n"
     ]
    }
   ],
   "source": [
    "def sfact(n):\n",
    "    if n<=0:\n",
    "        return 1\n",
    "    return fact(n) *sfact(n-1)\n",
    "def fact(n):\n",
    "    if n<=0:\n",
    "        return 1\n",
    "    return n *fact(n-1)\n",
    "\n",
    "print(sfact(4))\n",
    "print(fact(3))\n",
    "\n"
   ]
  },
  {
   "cell_type": "code",
   "execution_count": 3,
   "id": "adbdd063-d288-4d0a-bd16-0098aea14191",
   "metadata": {},
   "outputs": [
    {
     "name": "stdout",
     "output_type": "stream",
     "text": [
      "65536\n",
      "27\n"
     ]
    }
   ],
   "source": [
    "#Power Tower\n",
    "def pt(a,n):\n",
    "    if n==1:\n",
    "        return a\n",
    "    return a**pt(a,n-1)\n",
    "print(pt(2,4))\n",
    "print(pt(3,2))\n"
   ]
  },
  {
   "cell_type": "code",
   "execution_count": null,
   "id": "7e25ac1e-1918-4c15-9374-aa6c8c8eb9d7",
   "metadata": {},
   "outputs": [],
   "source": []
  }
 ],
 "metadata": {
  "kernelspec": {
   "display_name": "Python 3 (ipykernel)",
   "language": "python",
   "name": "python3"
  },
  "language_info": {
   "codemirror_mode": {
    "name": "ipython",
    "version": 3
   },
   "file_extension": ".py",
   "mimetype": "text/x-python",
   "name": "python",
   "nbconvert_exporter": "python",
   "pygments_lexer": "ipython3",
   "version": "3.12.7"
  }
 },
 "nbformat": 4,
 "nbformat_minor": 5
}
