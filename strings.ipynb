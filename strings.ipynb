{
 "cells": [
  {
   "cell_type": "code",
   "execution_count": 1,
   "id": "1c22d173-c414-4aba-a4d3-6377dc07b44f",
   "metadata": {},
   "outputs": [
    {
     "name": "stdin",
     "output_type": "stream",
     "text": [
      "enter a string : bangtan\n"
     ]
    },
    {
     "name": "stdout",
     "output_type": "stream",
     "text": [
      "g\n",
      "a\n",
      "7\n",
      "BANGTAN\n",
      "bangtan\n",
      "ang\n",
      "natgnab\n"
     ]
    }
   ],
   "source": [
    "str=input(\"enter a string :\")\n",
    "print(str[3])\n",
    "print(str[-2])\n",
    "print(len(str))\n",
    "print(str.upper())\n",
    "print(str.lower())\n",
    "print(str[1:4])\n",
    "print(str[::-1])\n"
   ]
  },
  {
   "cell_type": "code",
   "execution_count": 2,
   "id": "64d458b1-9079-4f58-9222-6471b6dd9bb3",
   "metadata": {},
   "outputs": [
    {
     "name": "stdin",
     "output_type": "stream",
     "text": [
      "enter a string : bangtan\n"
     ]
    },
    {
     "name": "stdout",
     "output_type": "stream",
     "text": [
      "g\n",
      "a\n",
      "7\n",
      "BANGTAN\n",
      "bangtan\n",
      "ang\n",
      "natgnab\n"
     ]
    }
   ],
   "source": [
    "str=input(\"enter a string :\")\n",
    "print(str[3])\n",
    "print(str[-2])\n",
    "print(len(str))\n",
    "print(str.upper())\n",
    "print(str.lower())\n",
    "print(str[1:4])\n",
    "print(str[::-1])\n"
   ]
  },
  {
   "cell_type": "code",
   "execution_count": 24,
   "id": "339661f2-7dda-4bcf-8dc3-7368e9576700",
   "metadata": {},
   "outputs": [
    {
     "name": "stdout",
     "output_type": "stream",
     "text": [
      "original list:\n",
      "['Orange', 'banana', 'kiwi']\n",
      "banana\n",
      "kiwi\n",
      "appended list:\n",
      "['Orange', 'banana', 'kiwi', 'Apple']\n",
      "deleted element list:\n",
      "['Orange', 'kiwi', 'Apple']\n",
      "['Orange', 'kiwi', 'Apple', 'm', 'a', 'n', 'g', 'o']\n",
      "['Orange', 'kiwi', 'guava', 'Apple', 'm', 'a', 'n', 'g', 'o']\n",
      "['kiwi', 'guava', 'Apple', 'm', 'a', 'n', 'g', 'o']\n",
      "['o', 'g', 'n', 'a', 'm', 'Apple', 'guava', 'kiwi']\n"
     ]
    }
   ],
   "source": [
    "fruits=['Orange','banana','kiwi']\n",
    "print(\"original list:\")\n",
    "print(fruits)\n",
    "print(fruits[1])\n",
    "print(fruits[-1])\n",
    "print(\"appended list:\")\n",
    "fruits.append('Apple')\n",
    "print(fruits)\n",
    "print(\"deleted element list:\")\n",
    "fruits.remove(\"banana\")\n",
    "print(fruits)\n",
    "fruits.extend(\"mango\")\n",
    "print(fruits)\n",
    "fruits.insert(2,\"guava\")\n",
    "print(fruits)\n",
    "del fruits[0]\n",
    "print(fruits)\n",
    "fruits.reverse()\n",
    "print(fruits)\n",
    "\n"
   ]
  },
  {
   "cell_type": "code",
   "execution_count": 28,
   "id": "b85ec37d-57cd-43e9-86ae-257e08e90e7f",
   "metadata": {},
   "outputs": [
    {
     "name": "stdout",
     "output_type": "stream",
     "text": [
      "jungkook\n",
      "6.2\n",
      "{'name': 'jungkook', 'height': 6.2, 'Country': 'South Korea'}\n",
      "6.2\n",
      "dict_keys(['name', 'height', 'Country'])\n",
      "dict_values(['jungkook', 6.2, 'South Korea'])\n",
      "{'name': 'jungkook', 'height': 6.2, 'Country': 'South Korea', 'country': 'India'}\n"
     ]
    }
   ],
   "source": [
    "#dictionary operations\n",
    "person={'name':'jungkook','height':6.2}\n",
    "print(person['name'])\n",
    "print(person['height'])\n",
    "person[\"Country\"]='South Korea'\n",
    "print(person)\n",
    "#get keyword\n",
    "print(person.get(\"height\"))\n",
    "print(person.keys())\n",
    "print(person.values())\n",
    "person.update({'country':'India'})\n",
    "print(person)\n",
    "              "
   ]
  },
  {
   "cell_type": "code",
   "execution_count": null,
   "id": "f9011412-bc28-4bac-94a6-0ccda2e7601c",
   "metadata": {},
   "outputs": [],
   "source": []
  }
 ],
 "metadata": {
  "kernelspec": {
   "display_name": "Python 3 (ipykernel)",
   "language": "python",
   "name": "python3"
  },
  "language_info": {
   "codemirror_mode": {
    "name": "ipython",
    "version": 3
   },
   "file_extension": ".py",
   "mimetype": "text/x-python",
   "name": "python",
   "nbconvert_exporter": "python",
   "pygments_lexer": "ipython3",
   "version": "3.12.7"
  }
 },
 "nbformat": 4,
 "nbformat_minor": 5
}
