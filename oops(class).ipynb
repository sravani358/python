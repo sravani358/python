{
 "cells": [
  {
   "cell_type": "code",
   "execution_count": 1,
   "id": "5602831e-36d1-45df-8ee0-bfcfcefe2ceb",
   "metadata": {},
   "outputs": [
    {
     "name": "stdout",
     "output_type": "stream",
     "text": [
      "9\n",
      "this is a class method\n"
     ]
    }
   ],
   "source": [
    "class abc:\n",
    "    value=9\n",
    "    def display(self):\n",
    "        print(\"this is a class method\")\n",
    "obj1=abc()\n",
    "print(obj1.value)\n",
    "obj1.display()\n"
   ]
  },
  {
   "cell_type": "code",
   "execution_count": 2,
   "id": "5b811b05-a570-4ff5-94fc-07fbac38ba5c",
   "metadata": {},
   "outputs": [
    {
     "name": "stdout",
     "output_type": "stream",
     "text": [
      "9\n",
      "this is a class method\n",
      "this is a class method\n"
     ]
    }
   ],
   "source": [
    "class abc:\n",
    "    value=9\n",
    "    def display(self):\n",
    "        print(\"this is a class method\")\n",
    "obj1=abc()\n",
    "print(obj1.value)\n",
    "obj1.display()\n",
    "obj1.display()\n"
   ]
  },
  {
   "cell_type": "code",
   "execution_count": 3,
   "id": "a6fb1ec1-4085-442b-a649-ef081fc361f5",
   "metadata": {},
   "outputs": [
    {
     "name": "stdin",
     "output_type": "stream",
     "text": [
      "enter a value:  3\n"
     ]
    },
    {
     "name": "stdout",
     "output_type": "stream",
     "text": [
      "this is a class method\n",
      "Accessed value in class is 3\n"
     ]
    }
   ],
   "source": [
    "class abc():\n",
    "    def __init__(self,value):\n",
    "        print(\"this is a class method\")\n",
    "        self.value=value\n",
    "        print(\"Accessed value in class is\",value)\n",
    "num=int(input(\"enter a value: \"))\n",
    "obj=abc(num)\n",
    "    "
   ]
  },
  {
   "cell_type": "code",
   "execution_count": 4,
   "id": "a6b32e4c-f495-4050-91b0-4f5cb53385da",
   "metadata": {},
   "outputs": [
    {
     "name": "stdout",
     "output_type": "stream",
     "text": [
      "Hello, I am Jimin and i am 30 year-old\n"
     ]
    }
   ],
   "source": [
    "class student:\n",
    "    def __init__(self,name,age):\n",
    "        self.name=name\n",
    "        self.age=age\n",
    "    def hi(self):\n",
    "        print(f\"Hello, I am {self.name} and i am {self.age} year-old\")\n",
    "s=student('Jimin',30)\n",
    "s.hi()"
   ]
  },
  {
   "cell_type": "code",
   "execution_count": 5,
   "id": "15be7e03-dcc3-40bf-a094-eb0fcae8abcc",
   "metadata": {},
   "outputs": [
    {
     "name": "stdin",
     "output_type": "stream",
     "text": [
      "enter radius: 3\n"
     ]
    },
    {
     "name": "stdout",
     "output_type": "stream",
     "text": [
      "area of circle : 28.274333882308138\n"
     ]
    }
   ],
   "source": [
    "'''code to calculATE area of circle by impoting pi from math and create a class for circle with constructor,where radius is consider as arg calculAte and returtn value to object'''\n",
    "import math\n",
    "class circle:\n",
    "    def __init__(self,radius):\n",
    "        self.radius=radius\n",
    "    def area(self):\n",
    "        return math.pi*self.radius**2\n",
    "r=int(input(\"enter radius:\"))\n",
    "c=circle(r)\n",
    "print(\"area of circle :\",c.area())"
   ]
  },
  {
   "cell_type": "code",
   "execution_count": 6,
   "id": "ee4806bb-a7bb-4fe9-b5ad-45d12aca1601",
   "metadata": {},
   "outputs": [
    {
     "name": "stdin",
     "output_type": "stream",
     "text": [
      "enter radius: 3.0\n"
     ]
    },
    {
     "name": "stdout",
     "output_type": "stream",
     "text": [
      "Circumference of circle : 57\n"
     ]
    }
   ],
   "source": [
    "import math\n",
    "class circle:\n",
    "    def __init__(self,radius):\n",
    "        self.radius=radius\n",
    "    def circumference(self):\n",
    "        return 2*math.pi*self.radius**2\n",
    "r=float(input(\"enter radius:\"))\n",
    "c=circle(r)\n",
    "print(f\"Circumference of circle : {c.circumference():.0f}\")"
   ]
  },
  {
   "cell_type": "code",
   "execution_count": 15,
   "id": "a4e981b8-e0a7-4429-9aac-34515a31071f",
   "metadata": {},
   "outputs": [
    {
     "name": "stdin",
     "output_type": "stream",
     "text": [
      "enter a num: 4\n"
     ]
    },
    {
     "name": "stdout",
     "output_type": "stream",
     "text": [
      "Factorial:  24\n"
     ]
    }
   ],
   "source": [
    "class Math:\n",
    "    def __init__(self, num):\n",
    "        self.num=num\n",
    "    def fact(self):\n",
    "        f=1\n",
    "        for i in range(1, self.num+1):\n",
    "            f*=i\n",
    "        return f\n",
    "n=int(input(\"enter a num:\"))\n",
    "m= Math(n)\n",
    "print(\"Factorial: \", m.fact())"
   ]
  },
  {
   "cell_type": "code",
   "execution_count": 51,
   "id": "67694bf7-c263-45fd-98af-9568c889f784",
   "metadata": {},
   "outputs": [
    {
     "name": "stdin",
     "output_type": "stream",
     "text": [
      "enter num: 10\n"
     ]
    },
    {
     "name": "stdout",
     "output_type": "stream",
     "text": [
      "square root of num is :3.16\n"
     ]
    }
   ],
   "source": [
    "'''code to import sqrt function and calculate value by creaqting a class SquareRoot and define a fn for finding root,return value to main program'''\n",
    "import math\n",
    "class SquareRoot:\n",
    "    def __init__(self,num):\n",
    "        self.num=num\n",
    "    def FindRoot(self):\n",
    "        return math.sqrt(self.num)\n",
    "a=float(input(\"enter num:\"))\n",
    "s=SquareRoot(a)\n",
    "print(f\"square root of num is :{s.FindRoot():.2f}\")"
   ]
  },
  {
   "cell_type": "code",
   "execution_count": 10,
   "id": "a2e742b6-485a-4aa4-9ee8-a03a0b54db70",
   "metadata": {},
   "outputs": [
    {
     "name": "stdout",
     "output_type": "stream",
     "text": [
      "even list: [32, 38]\n",
      "odd list: [21, 33, 53]\n"
     ]
    }
   ],
   "source": [
    "class number:\n",
    "    even=[]\n",
    "    odd=[]\n",
    "    def __init__(self,num):\n",
    "        self.num=num\n",
    "        if num%2==0:\n",
    "             number.even.append(num)\n",
    "        else:\n",
    "           number.odd.append(num)\n",
    "n1=number(21)\n",
    "n2=number(33)\n",
    "n3=number(32)\n",
    "n4=number(38)\n",
    "n5=number(53)\n",
    "print(\"even list:\",number.even)\n",
    "print(\"odd list:\",number.odd)\n",
    "\n"
   ]
  },
  {
   "cell_type": "code",
   "execution_count": null,
   "id": "a3100b06-4d74-4a6a-b9b2-961a02c8b276",
   "metadata": {},
   "outputs": [],
   "source": []
  },
  {
   "cell_type": "code",
   "execution_count": null,
   "id": "6fef0551-493b-4423-a5d8-2cc02fa745ed",
   "metadata": {},
   "outputs": [],
   "source": []
  },
  {
   "cell_type": "code",
   "execution_count": null,
   "id": "e6581e8d-b0ed-4f81-aef4-94aced7cf18d",
   "metadata": {},
   "outputs": [],
   "source": []
  }
 ],
 "metadata": {
  "kernelspec": {
   "display_name": "Python 3 (ipykernel)",
   "language": "python",
   "name": "python3"
  },
  "language_info": {
   "codemirror_mode": {
    "name": "ipython",
    "version": 3
   },
   "file_extension": ".py",
   "mimetype": "text/x-python",
   "name": "python",
   "nbconvert_exporter": "python",
   "pygments_lexer": "ipython3",
   "version": "3.12.7"
  }
 },
 "nbformat": 4,
 "nbformat_minor": 5
}
